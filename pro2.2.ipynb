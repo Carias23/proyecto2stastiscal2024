{
 "cells": [
  {
   "cell_type": "code",
   "execution_count": 1,
   "id": "a16e5872-80fa-42d5-812c-f7092c9dba0d",
   "metadata": {
    "tags": []
   },
   "outputs": [],
   "source": [
    "# Importando bibliotecas necesarias\n",
    "import pandas as pd\n",
    "from sklearn.model_selection import train_test_split\n",
    "from sklearn.preprocessing import StandardScaler, OneHotEncoder\n",
    "from sklearn.compose import ColumnTransformer\n",
    "from sklearn.pipeline import Pipeline\n"
   ]
  },
  {
   "cell_type": "code",
   "execution_count": 3,
   "id": "ddbde768-d292-40fe-9b72-53944e413810",
   "metadata": {
    "tags": []
   },
   "outputs": [],
   "source": [
    "# Cargar el dataset\n",
    "df_train = pd.read_csv('train.csv')"
   ]
  },
  {
   "cell_type": "code",
   "execution_count": 4,
   "id": "95070cb6-8ebd-4939-9cf3-e7fd8cb17d54",
   "metadata": {
    "tags": []
   },
   "outputs": [],
   "source": [
    "# Tratamiento de valores faltantes (similar al Notebook #1)\n",
    "df_train['Age'].fillna(df_train['Age'].median(), inplace=True)\n",
    "df_train['Cabin_present'] = df_train['Cabin'].notnull().astype(int)\n",
    "df_train.drop(columns=['Cabin'], inplace=True)\n",
    "df_train['Embarked'].fillna(df_train['Embarked'].mode()[0], inplace=True)"
   ]
  },
  {
   "cell_type": "code",
   "execution_count": 5,
   "id": "2ca4273a-7d90-47e5-ad9e-ac0108c3bde1",
   "metadata": {
    "tags": []
   },
   "outputs": [],
   "source": [
    "# Selección y transformación de características\n",
    "X = df_train.drop(['Survived', 'Name', 'Ticket'], axis=1)\n",
    "y = df_train['Survived']"
   ]
  },
  {
   "cell_type": "code",
   "execution_count": 6,
   "id": "89ac4143-2643-4c19-9854-057d30e4beee",
   "metadata": {
    "tags": []
   },
   "outputs": [],
   "source": [
    "# Identificación de características numéricas y categóricas\n",
    "numeric_features = ['PassengerId', 'Pclass', 'Age', 'SibSp', 'Parch', 'Fare']\n",
    "categorical_features = ['Sex', 'Embarked', 'Cabin_present']"
   ]
  },
  {
   "cell_type": "code",
   "execution_count": 7,
   "id": "1c7f4c98-ce24-4268-a90e-f0faeece8dc8",
   "metadata": {
    "tags": []
   },
   "outputs": [],
   "source": [
    "# Pipelines para preprocesamiento\n",
    "numeric_transformer = Pipeline(steps=[\n",
    "    ('scaler', StandardScaler())\n",
    "])\n",
    "\n",
    "categorical_transformer = Pipeline(steps=[\n",
    "    ('encoder', OneHotEncoder(handle_unknown='ignore'))\n",
    "])\n",
    "\n",
    "preprocessor = ColumnTransformer(\n",
    "    transformers=[\n",
    "        ('num', numeric_transformer, numeric_features),\n",
    "        ('cat', categorical_transformer, categorical_features)\n",
    "    ])"
   ]
  },
  {
   "cell_type": "code",
   "execution_count": 8,
   "id": "99c5d0a1-cd21-4d7c-a601-5beb79d045ce",
   "metadata": {
    "tags": []
   },
   "outputs": [],
   "source": [
    "# Aplicar el preprocesamiento\n",
    "X_preprocessed = preprocessor.fit_transform(X)\n"
   ]
  },
  {
   "cell_type": "code",
   "execution_count": 9,
   "id": "bdd1c145-0f9d-4d65-856f-ed66a80ab273",
   "metadata": {
    "tags": []
   },
   "outputs": [],
   "source": [
    "# División en conjuntos de entrenamiento y prueba\n",
    "X_train, X_test, y_train, y_test = train_test_split(X_preprocessed, y, test_size=0.2, random_state=42)"
   ]
  },
  {
   "cell_type": "code",
   "execution_count": 14,
   "id": "1a7c3ee2-ecfa-45cd-88da-3f3fe6466ccb",
   "metadata": {
    "tags": []
   },
   "outputs": [],
   "source": [
    "# Guardando el dataset procesado\n",
    "processed_df = pd.DataFrame(X_preprocessed)\n",
    "processed_df['Survived'] = y.reset_index(drop=True)\n",
    "processed_df.to_csv('processed_dataset.csv', index=False)"
   ]
  },
  {
   "cell_type": "code",
   "execution_count": null,
   "id": "9c949fac-ce9c-4225-bc8e-037eb0a17a9b",
   "metadata": {},
   "outputs": [],
   "source": []
  }
 ],
 "metadata": {
  "kernelspec": {
   "display_name": "Python 3 (ipykernel)",
   "language": "python",
   "name": "python3"
  },
  "language_info": {
   "codemirror_mode": {
    "name": "ipython",
    "version": 3
   },
   "file_extension": ".py",
   "mimetype": "text/x-python",
   "name": "python",
   "nbconvert_exporter": "python",
   "pygments_lexer": "ipython3",
   "version": "3.11.5"
  }
 },
 "nbformat": 4,
 "nbformat_minor": 5
}
